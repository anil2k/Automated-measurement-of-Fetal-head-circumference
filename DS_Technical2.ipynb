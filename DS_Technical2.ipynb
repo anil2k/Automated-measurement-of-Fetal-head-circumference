{
  "nbformat": 4,
  "nbformat_minor": 0,
  "metadata": {
    "colab": {
      "name": "DS_Technical2.ipynb",
      "provenance": [],
      "mount_file_id": "1ym9bV0QVbzzOLnNB4FW-eha7UA59XiSF",
      "authorship_tag": "ABX9TyPBzl6XjSOux8z3HIY6zqTK",
      "include_colab_link": true
    },
    "kernelspec": {
      "name": "python3",
      "display_name": "Python 3"
    }
  },
  "cells": [
    {
      "cell_type": "markdown",
      "metadata": {
        "id": "view-in-github",
        "colab_type": "text"
      },
      "source": [
        "<a href=\"https://colab.research.google.com/github/anil2k/Automated-measurement-of-Fetal-head-circumference/blob/master/DS_Technical2.ipynb\" target=\"_parent\"><img src=\"https://colab.research.google.com/assets/colab-badge.svg\" alt=\"Open In Colab\"/></a>"
      ]
    },
    {
      "cell_type": "code",
      "metadata": {
        "id": "Na9PraVo-vgm",
        "colab_type": "code",
        "colab": {
          "base_uri": "https://localhost:8080/",
          "height": 141
        },
        "outputId": "d6085981-1f73-4166-8626-5489effe3510"
      },
      "source": [
        "import numpy\n",
        "!pip install folderstats\n",
        "import folderstats\n"
      ],
      "execution_count": null,
      "outputs": [
        {
          "output_type": "stream",
          "text": [
            "Requirement already satisfied: folderstats in /usr/local/lib/python3.6/dist-packages (0.3.0)\n",
            "Requirement already satisfied: pandas in /usr/local/lib/python3.6/dist-packages (from folderstats) (1.0.5)\n",
            "Requirement already satisfied: python-dateutil>=2.6.1 in /usr/local/lib/python3.6/dist-packages (from pandas->folderstats) (2.8.1)\n",
            "Requirement already satisfied: numpy>=1.13.3 in /usr/local/lib/python3.6/dist-packages (from pandas->folderstats) (1.18.5)\n",
            "Requirement already satisfied: pytz>=2017.2 in /usr/local/lib/python3.6/dist-packages (from pandas->folderstats) (2018.9)\n",
            "Requirement already satisfied: six>=1.5 in /usr/local/lib/python3.6/dist-packages (from python-dateutil>=2.6.1->pandas->folderstats) (1.15.0)\n"
          ],
          "name": "stdout"
        }
      ]
    },
    {
      "cell_type": "code",
      "metadata": {
        "id": "mEYc23KYToyr",
        "colab_type": "code",
        "colab": {}
      },
      "source": [
        "foldername='/content/drive/My Drive/DS_Technical'\n",
        "def MyFun(foldername):\n",
        "  df = folderstats.folderstats(foldername, ignore_hidden=True)\n",
        "  df.head()\n",
        "  df.to_csv(foldername+'.csv')"
      ],
      "execution_count": null,
      "outputs": []
    }
  ]
}